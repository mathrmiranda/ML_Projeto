{
  "cells": [
    {
      "cell_type": "markdown",
      "metadata": {
        "id": "pWK9aE5ia_rW"
      },
      "source": [
        "Leitura dos dados no documento excel `Acoustic_Extinguisher_Fire_Dataset.xlsx`."
      ]
    },
    {
      "cell_type": "code",
      "execution_count": 33,
      "metadata": {
        "colab": {
          "base_uri": "https://localhost:8080/",
          "height": 206
        },
        "id": "ERemtZEBV125",
        "outputId": "bb07f7dc-7a4e-4390-b680-2c9c28c04a2b"
      },
      "outputs": [
        {
          "data": {
            "text/html": [
              "<div>\n",
              "<style scoped>\n",
              "    .dataframe tbody tr th:only-of-type {\n",
              "        vertical-align: middle;\n",
              "    }\n",
              "\n",
              "    .dataframe tbody tr th {\n",
              "        vertical-align: top;\n",
              "    }\n",
              "\n",
              "    .dataframe thead th {\n",
              "        text-align: right;\n",
              "    }\n",
              "</style>\n",
              "<table border=\"1\" class=\"dataframe\">\n",
              "  <thead>\n",
              "    <tr style=\"text-align: right;\">\n",
              "      <th></th>\n",
              "      <th>SIZE</th>\n",
              "      <th>FUEL</th>\n",
              "      <th>DISTANCE</th>\n",
              "      <th>DESIBEL</th>\n",
              "      <th>AIRFLOW</th>\n",
              "      <th>FREQUENCY</th>\n",
              "      <th>STATUS</th>\n",
              "    </tr>\n",
              "  </thead>\n",
              "  <tbody>\n",
              "    <tr>\n",
              "      <th>0</th>\n",
              "      <td>1</td>\n",
              "      <td>gasoline</td>\n",
              "      <td>10</td>\n",
              "      <td>96</td>\n",
              "      <td>0.0</td>\n",
              "      <td>75</td>\n",
              "      <td>0</td>\n",
              "    </tr>\n",
              "    <tr>\n",
              "      <th>1</th>\n",
              "      <td>1</td>\n",
              "      <td>gasoline</td>\n",
              "      <td>10</td>\n",
              "      <td>96</td>\n",
              "      <td>0.0</td>\n",
              "      <td>72</td>\n",
              "      <td>1</td>\n",
              "    </tr>\n",
              "    <tr>\n",
              "      <th>2</th>\n",
              "      <td>1</td>\n",
              "      <td>gasoline</td>\n",
              "      <td>10</td>\n",
              "      <td>96</td>\n",
              "      <td>2.6</td>\n",
              "      <td>70</td>\n",
              "      <td>1</td>\n",
              "    </tr>\n",
              "    <tr>\n",
              "      <th>3</th>\n",
              "      <td>1</td>\n",
              "      <td>gasoline</td>\n",
              "      <td>10</td>\n",
              "      <td>96</td>\n",
              "      <td>3.2</td>\n",
              "      <td>68</td>\n",
              "      <td>1</td>\n",
              "    </tr>\n",
              "    <tr>\n",
              "      <th>4</th>\n",
              "      <td>1</td>\n",
              "      <td>gasoline</td>\n",
              "      <td>10</td>\n",
              "      <td>109</td>\n",
              "      <td>4.5</td>\n",
              "      <td>67</td>\n",
              "      <td>1</td>\n",
              "    </tr>\n",
              "  </tbody>\n",
              "</table>\n",
              "</div>"
            ],
            "text/plain": [
              "   SIZE      FUEL  DISTANCE  DESIBEL  AIRFLOW  FREQUENCY  STATUS\n",
              "0     1  gasoline        10       96      0.0         75       0\n",
              "1     1  gasoline        10       96      0.0         72       1\n",
              "2     1  gasoline        10       96      2.6         70       1\n",
              "3     1  gasoline        10       96      3.2         68       1\n",
              "4     1  gasoline        10      109      4.5         67       1"
            ]
          },
          "execution_count": 33,
          "metadata": {},
          "output_type": "execute_result"
        }
      ],
      "source": [
        "import numpy as np\n",
        "import pandas as pd\n",
        "from sklearn.model_selection import train_test_split\n",
        "\n",
        "df = pd.read_excel('./Acoustic_Extinguisher_Fire_Dataset/Acoustic_Extinguisher_Fire_Dataset.xlsx')\n",
        "df.head()"
      ]
    },
    {
      "cell_type": "markdown",
      "metadata": {
        "id": "GdMaddC5a_re"
      },
      "source": [
        "Detecção e remoção dos outliers no atributo **`AIRFLOW`** pela distribuição dos dados."
      ]
    },
    {
      "cell_type": "code",
      "execution_count": 34,
      "metadata": {
        "colab": {
          "base_uri": "https://localhost:8080/"
        },
        "id": "reQW6ttSWDEC",
        "outputId": "5c57a040-b6d2-4722-d258-e91730b66eea"
      },
      "outputs": [
        {
          "name": "stdout",
          "output_type": "stream",
          "text": [
            "media = 6.98, desvio padrao = 4.74\n",
            "Outliers: 34\n",
            "Inliers: 17408\n"
          ]
        }
      ],
      "source": [
        "desvp = df['AIRFLOW'].std()\n",
        "media = df['AIRFLOW'].mean()\n",
        "\n",
        "print(\"media = %.2f, desvio padrao = %.2f\" % (media, desvp))\n",
        "\n",
        "# apenas outliers segundo std\n",
        "df_out_airflow = df[(df['AIRFLOW'] < media-(desvp*2)) | (df['AIRFLOW'] > media+(desvp*2))]\n",
        "print(\"Outliers:\", len(df_out_airflow))\n",
        "\n",
        "# apenas inliers segundo std\n",
        "df_in_airflow = df[(df['AIRFLOW'] >= media-(desvp*2)) & (df['AIRFLOW'] <= media+(desvp*2))]\n",
        "print(\"Inliers:\", len(df_in_airflow))\n",
        "\n",
        "#removendo outliers\n",
        "df = df_in_airflow"
      ]
    },
    {
      "cell_type": "markdown",
      "metadata": {
        "id": "5FCjXDiMa_rg"
      },
      "source": [
        "Detecção e remoção dos outliers no atributo **`DESIBEL`** pela distribuição dos dados."
      ]
    },
    {
      "cell_type": "code",
      "execution_count": 35,
      "metadata": {
        "colab": {
          "base_uri": "https://localhost:8080/"
        },
        "id": "h1LFDyz5a_rg",
        "outputId": "58dbb8ef-179f-4767-f7c5-ddc0962053b0"
      },
      "outputs": [
        {
          "name": "stdout",
          "output_type": "stream",
          "text": [
            "media = 96.35, desvio padrao = 8.15\n",
            "Outliers: 595\n",
            "Inliers: 16813\n"
          ]
        }
      ],
      "source": [
        "desvp = df['DESIBEL'].std()\n",
        "media = df['DESIBEL'].mean()\n",
        "\n",
        "print(\"media = %.2f, desvio padrao = %.2f\" % (media, desvp))\n",
        "\n",
        "# apenas outliers segundo std\n",
        "df_out_desibel = df[(df['DESIBEL'] < media-(desvp*2)) | (df['DESIBEL'] > media+(desvp*2))]\n",
        "print(\"Outliers:\", len(df_out_desibel))\n",
        "\n",
        "# apenas inliers segundo std\n",
        "df_in_desibel = df[(df['DESIBEL'] >= media-(desvp*2)) & (df['DESIBEL'] <= media+(desvp*2))]\n",
        "print(\"Inliers:\", len(df_in_desibel))\n",
        "\n",
        "#removendo outliers\n",
        "df = df_in_desibel"
      ]
    },
    {
      "cell_type": "markdown",
      "metadata": {
        "id": "Ha0sBQQRfbaV"
      },
      "source": [
        "Verificação de dados faltando em todas as colunas."
      ]
    },
    {
      "cell_type": "code",
      "execution_count": 36,
      "metadata": {
        "colab": {
          "base_uri": "https://localhost:8080/"
        },
        "id": "yA_jf9a9fYFr",
        "outputId": "738e9e89-2540-4f85-93f3-f39d16ada9d4"
      },
      "outputs": [
        {
          "data": {
            "text/plain": [
              "SIZE         0\n",
              "FUEL         0\n",
              "DISTANCE     0\n",
              "DESIBEL      0\n",
              "AIRFLOW      0\n",
              "FREQUENCY    0\n",
              "STATUS       0\n",
              "dtype: int64"
            ]
          },
          "execution_count": 36,
          "metadata": {},
          "output_type": "execute_result"
        }
      ],
      "source": [
        "df.isna().sum()"
      ]
    },
    {
      "cell_type": "markdown",
      "metadata": {
        "id": "2jeyo3BXfgHH"
      },
      "source": [
        "Verficação de dados nulos em todas as colunas"
      ]
    },
    {
      "cell_type": "code",
      "execution_count": 37,
      "metadata": {
        "colab": {
          "base_uri": "https://localhost:8080/"
        },
        "id": "XJAE3DvwfifA",
        "outputId": "4980c128-80ff-4470-cb9a-d218328e90d3"
      },
      "outputs": [
        {
          "data": {
            "text/plain": [
              "SIZE         0\n",
              "FUEL         0\n",
              "DISTANCE     0\n",
              "DESIBEL      0\n",
              "AIRFLOW      0\n",
              "FREQUENCY    0\n",
              "STATUS       0\n",
              "dtype: int64"
            ]
          },
          "execution_count": 37,
          "metadata": {},
          "output_type": "execute_result"
        }
      ],
      "source": [
        "df.isnull().sum()"
      ]
    },
    {
      "cell_type": "markdown",
      "metadata": {
        "id": "1k0i18s6a_rh"
      },
      "source": [
        "Dados após o tratamento de outliers."
      ]
    },
    {
      "cell_type": "code",
      "execution_count": 38,
      "metadata": {
        "colab": {
          "base_uri": "https://localhost:8080/",
          "height": 424
        },
        "id": "Z7pXiJYna_ri",
        "outputId": "458fb740-8920-4d1d-fac7-65ff646609f9"
      },
      "outputs": [
        {
          "data": {
            "text/html": [
              "<div>\n",
              "<style scoped>\n",
              "    .dataframe tbody tr th:only-of-type {\n",
              "        vertical-align: middle;\n",
              "    }\n",
              "\n",
              "    .dataframe tbody tr th {\n",
              "        vertical-align: top;\n",
              "    }\n",
              "\n",
              "    .dataframe thead th {\n",
              "        text-align: right;\n",
              "    }\n",
              "</style>\n",
              "<table border=\"1\" class=\"dataframe\">\n",
              "  <thead>\n",
              "    <tr style=\"text-align: right;\">\n",
              "      <th></th>\n",
              "      <th>SIZE</th>\n",
              "      <th>FUEL</th>\n",
              "      <th>DISTANCE</th>\n",
              "      <th>DESIBEL</th>\n",
              "      <th>AIRFLOW</th>\n",
              "      <th>FREQUENCY</th>\n",
              "      <th>STATUS</th>\n",
              "    </tr>\n",
              "  </thead>\n",
              "  <tbody>\n",
              "    <tr>\n",
              "      <th>0</th>\n",
              "      <td>1</td>\n",
              "      <td>gasoline</td>\n",
              "      <td>10</td>\n",
              "      <td>96</td>\n",
              "      <td>0.0</td>\n",
              "      <td>75</td>\n",
              "      <td>0</td>\n",
              "    </tr>\n",
              "    <tr>\n",
              "      <th>1</th>\n",
              "      <td>1</td>\n",
              "      <td>gasoline</td>\n",
              "      <td>10</td>\n",
              "      <td>96</td>\n",
              "      <td>0.0</td>\n",
              "      <td>72</td>\n",
              "      <td>1</td>\n",
              "    </tr>\n",
              "    <tr>\n",
              "      <th>2</th>\n",
              "      <td>1</td>\n",
              "      <td>gasoline</td>\n",
              "      <td>10</td>\n",
              "      <td>96</td>\n",
              "      <td>2.6</td>\n",
              "      <td>70</td>\n",
              "      <td>1</td>\n",
              "    </tr>\n",
              "    <tr>\n",
              "      <th>3</th>\n",
              "      <td>1</td>\n",
              "      <td>gasoline</td>\n",
              "      <td>10</td>\n",
              "      <td>96</td>\n",
              "      <td>3.2</td>\n",
              "      <td>68</td>\n",
              "      <td>1</td>\n",
              "    </tr>\n",
              "    <tr>\n",
              "      <th>4</th>\n",
              "      <td>1</td>\n",
              "      <td>gasoline</td>\n",
              "      <td>10</td>\n",
              "      <td>109</td>\n",
              "      <td>4.5</td>\n",
              "      <td>67</td>\n",
              "      <td>1</td>\n",
              "    </tr>\n",
              "    <tr>\n",
              "      <th>...</th>\n",
              "      <td>...</td>\n",
              "      <td>...</td>\n",
              "      <td>...</td>\n",
              "      <td>...</td>\n",
              "      <td>...</td>\n",
              "      <td>...</td>\n",
              "      <td>...</td>\n",
              "    </tr>\n",
              "    <tr>\n",
              "      <th>17434</th>\n",
              "      <td>7</td>\n",
              "      <td>lpg</td>\n",
              "      <td>190</td>\n",
              "      <td>91</td>\n",
              "      <td>1.9</td>\n",
              "      <td>8</td>\n",
              "      <td>0</td>\n",
              "    </tr>\n",
              "    <tr>\n",
              "      <th>17435</th>\n",
              "      <td>7</td>\n",
              "      <td>lpg</td>\n",
              "      <td>190</td>\n",
              "      <td>91</td>\n",
              "      <td>1.6</td>\n",
              "      <td>7</td>\n",
              "      <td>0</td>\n",
              "    </tr>\n",
              "    <tr>\n",
              "      <th>17436</th>\n",
              "      <td>7</td>\n",
              "      <td>lpg</td>\n",
              "      <td>190</td>\n",
              "      <td>87</td>\n",
              "      <td>2.5</td>\n",
              "      <td>6</td>\n",
              "      <td>0</td>\n",
              "    </tr>\n",
              "    <tr>\n",
              "      <th>17437</th>\n",
              "      <td>7</td>\n",
              "      <td>lpg</td>\n",
              "      <td>190</td>\n",
              "      <td>86</td>\n",
              "      <td>2.2</td>\n",
              "      <td>5</td>\n",
              "      <td>0</td>\n",
              "    </tr>\n",
              "    <tr>\n",
              "      <th>17438</th>\n",
              "      <td>7</td>\n",
              "      <td>lpg</td>\n",
              "      <td>190</td>\n",
              "      <td>84</td>\n",
              "      <td>2.0</td>\n",
              "      <td>4</td>\n",
              "      <td>0</td>\n",
              "    </tr>\n",
              "  </tbody>\n",
              "</table>\n",
              "<p>16813 rows × 7 columns</p>\n",
              "</div>"
            ],
            "text/plain": [
              "       SIZE      FUEL  DISTANCE  DESIBEL  AIRFLOW  FREQUENCY  STATUS\n",
              "0         1  gasoline        10       96      0.0         75       0\n",
              "1         1  gasoline        10       96      0.0         72       1\n",
              "2         1  gasoline        10       96      2.6         70       1\n",
              "3         1  gasoline        10       96      3.2         68       1\n",
              "4         1  gasoline        10      109      4.5         67       1\n",
              "...     ...       ...       ...      ...      ...        ...     ...\n",
              "17434     7       lpg       190       91      1.9          8       0\n",
              "17435     7       lpg       190       91      1.6          7       0\n",
              "17436     7       lpg       190       87      2.5          6       0\n",
              "17437     7       lpg       190       86      2.2          5       0\n",
              "17438     7       lpg       190       84      2.0          4       0\n",
              "\n",
              "[16813 rows x 7 columns]"
            ]
          },
          "execution_count": 38,
          "metadata": {},
          "output_type": "execute_result"
        }
      ],
      "source": [
        "df"
      ]
    },
    {
      "cell_type": "markdown",
      "metadata": {
        "id": "UdolhHMAa_rj"
      },
      "source": [
        "Convertemos os atributos categóricos **FUEL** em numéricos usando a técnica one-hot encoding através do método `get_dummies` no `pandas`.\n",
        "\n",
        "Como resultado, os quatro tipos de combustíveis presentes (`gasoline`, `kerosene`, `lpg` e `thinner`) foram separados em 4 atributos com valores 0 ou 1."
      ]
    },
    {
      "cell_type": "code",
      "execution_count": 39,
      "metadata": {
        "colab": {
          "base_uri": "https://localhost:8080/",
          "height": 424
        },
        "id": "ndGkjn7Aa_rj",
        "outputId": "792effa7-cec6-45a0-8721-9354ed4528de"
      },
      "outputs": [
        {
          "data": {
            "text/html": [
              "<div>\n",
              "<style scoped>\n",
              "    .dataframe tbody tr th:only-of-type {\n",
              "        vertical-align: middle;\n",
              "    }\n",
              "\n",
              "    .dataframe tbody tr th {\n",
              "        vertical-align: top;\n",
              "    }\n",
              "\n",
              "    .dataframe thead th {\n",
              "        text-align: right;\n",
              "    }\n",
              "</style>\n",
              "<table border=\"1\" class=\"dataframe\">\n",
              "  <thead>\n",
              "    <tr style=\"text-align: right;\">\n",
              "      <th></th>\n",
              "      <th>gasoline</th>\n",
              "      <th>kerosene</th>\n",
              "      <th>lpg</th>\n",
              "      <th>thinner</th>\n",
              "      <th>SIZE</th>\n",
              "      <th>DISTANCE</th>\n",
              "      <th>DESIBEL</th>\n",
              "      <th>AIRFLOW</th>\n",
              "      <th>FREQUENCY</th>\n",
              "      <th>STATUS</th>\n",
              "    </tr>\n",
              "  </thead>\n",
              "  <tbody>\n",
              "    <tr>\n",
              "      <th>0</th>\n",
              "      <td>1</td>\n",
              "      <td>0</td>\n",
              "      <td>0</td>\n",
              "      <td>0</td>\n",
              "      <td>1</td>\n",
              "      <td>10</td>\n",
              "      <td>96</td>\n",
              "      <td>0.0</td>\n",
              "      <td>75</td>\n",
              "      <td>0</td>\n",
              "    </tr>\n",
              "    <tr>\n",
              "      <th>1</th>\n",
              "      <td>1</td>\n",
              "      <td>0</td>\n",
              "      <td>0</td>\n",
              "      <td>0</td>\n",
              "      <td>1</td>\n",
              "      <td>10</td>\n",
              "      <td>96</td>\n",
              "      <td>0.0</td>\n",
              "      <td>72</td>\n",
              "      <td>1</td>\n",
              "    </tr>\n",
              "    <tr>\n",
              "      <th>2</th>\n",
              "      <td>1</td>\n",
              "      <td>0</td>\n",
              "      <td>0</td>\n",
              "      <td>0</td>\n",
              "      <td>1</td>\n",
              "      <td>10</td>\n",
              "      <td>96</td>\n",
              "      <td>2.6</td>\n",
              "      <td>70</td>\n",
              "      <td>1</td>\n",
              "    </tr>\n",
              "    <tr>\n",
              "      <th>3</th>\n",
              "      <td>1</td>\n",
              "      <td>0</td>\n",
              "      <td>0</td>\n",
              "      <td>0</td>\n",
              "      <td>1</td>\n",
              "      <td>10</td>\n",
              "      <td>96</td>\n",
              "      <td>3.2</td>\n",
              "      <td>68</td>\n",
              "      <td>1</td>\n",
              "    </tr>\n",
              "    <tr>\n",
              "      <th>4</th>\n",
              "      <td>1</td>\n",
              "      <td>0</td>\n",
              "      <td>0</td>\n",
              "      <td>0</td>\n",
              "      <td>1</td>\n",
              "      <td>10</td>\n",
              "      <td>109</td>\n",
              "      <td>4.5</td>\n",
              "      <td>67</td>\n",
              "      <td>1</td>\n",
              "    </tr>\n",
              "    <tr>\n",
              "      <th>...</th>\n",
              "      <td>...</td>\n",
              "      <td>...</td>\n",
              "      <td>...</td>\n",
              "      <td>...</td>\n",
              "      <td>...</td>\n",
              "      <td>...</td>\n",
              "      <td>...</td>\n",
              "      <td>...</td>\n",
              "      <td>...</td>\n",
              "      <td>...</td>\n",
              "    </tr>\n",
              "    <tr>\n",
              "      <th>17434</th>\n",
              "      <td>0</td>\n",
              "      <td>0</td>\n",
              "      <td>1</td>\n",
              "      <td>0</td>\n",
              "      <td>7</td>\n",
              "      <td>190</td>\n",
              "      <td>91</td>\n",
              "      <td>1.9</td>\n",
              "      <td>8</td>\n",
              "      <td>0</td>\n",
              "    </tr>\n",
              "    <tr>\n",
              "      <th>17435</th>\n",
              "      <td>0</td>\n",
              "      <td>0</td>\n",
              "      <td>1</td>\n",
              "      <td>0</td>\n",
              "      <td>7</td>\n",
              "      <td>190</td>\n",
              "      <td>91</td>\n",
              "      <td>1.6</td>\n",
              "      <td>7</td>\n",
              "      <td>0</td>\n",
              "    </tr>\n",
              "    <tr>\n",
              "      <th>17436</th>\n",
              "      <td>0</td>\n",
              "      <td>0</td>\n",
              "      <td>1</td>\n",
              "      <td>0</td>\n",
              "      <td>7</td>\n",
              "      <td>190</td>\n",
              "      <td>87</td>\n",
              "      <td>2.5</td>\n",
              "      <td>6</td>\n",
              "      <td>0</td>\n",
              "    </tr>\n",
              "    <tr>\n",
              "      <th>17437</th>\n",
              "      <td>0</td>\n",
              "      <td>0</td>\n",
              "      <td>1</td>\n",
              "      <td>0</td>\n",
              "      <td>7</td>\n",
              "      <td>190</td>\n",
              "      <td>86</td>\n",
              "      <td>2.2</td>\n",
              "      <td>5</td>\n",
              "      <td>0</td>\n",
              "    </tr>\n",
              "    <tr>\n",
              "      <th>17438</th>\n",
              "      <td>0</td>\n",
              "      <td>0</td>\n",
              "      <td>1</td>\n",
              "      <td>0</td>\n",
              "      <td>7</td>\n",
              "      <td>190</td>\n",
              "      <td>84</td>\n",
              "      <td>2.0</td>\n",
              "      <td>4</td>\n",
              "      <td>0</td>\n",
              "    </tr>\n",
              "  </tbody>\n",
              "</table>\n",
              "<p>16813 rows × 10 columns</p>\n",
              "</div>"
            ],
            "text/plain": [
              "       gasoline  kerosene  lpg  thinner  SIZE  DISTANCE  DESIBEL  AIRFLOW  \\\n",
              "0             1         0    0        0     1        10       96      0.0   \n",
              "1             1         0    0        0     1        10       96      0.0   \n",
              "2             1         0    0        0     1        10       96      2.6   \n",
              "3             1         0    0        0     1        10       96      3.2   \n",
              "4             1         0    0        0     1        10      109      4.5   \n",
              "...         ...       ...  ...      ...   ...       ...      ...      ...   \n",
              "17434         0         0    1        0     7       190       91      1.9   \n",
              "17435         0         0    1        0     7       190       91      1.6   \n",
              "17436         0         0    1        0     7       190       87      2.5   \n",
              "17437         0         0    1        0     7       190       86      2.2   \n",
              "17438         0         0    1        0     7       190       84      2.0   \n",
              "\n",
              "       FREQUENCY  STATUS  \n",
              "0             75       0  \n",
              "1             72       1  \n",
              "2             70       1  \n",
              "3             68       1  \n",
              "4             67       1  \n",
              "...          ...     ...  \n",
              "17434          8       0  \n",
              "17435          7       0  \n",
              "17436          6       0  \n",
              "17437          5       0  \n",
              "17438          4       0  \n",
              "\n",
              "[16813 rows x 10 columns]"
            ]
          },
          "execution_count": 39,
          "metadata": {},
          "output_type": "execute_result"
        }
      ],
      "source": [
        "dummy_vars = pd.get_dummies(df['FUEL'])\n",
        "df_dummies = pd.concat([dummy_vars, df.drop('FUEL', axis=1)], axis = 1, sort=False)\n",
        "df_dummies"
      ]
    },
    {
      "cell_type": "markdown",
      "metadata": {},
      "source": [
        "Normalização dos dados."
      ]
    },
    {
      "cell_type": "code",
      "execution_count": 40,
      "metadata": {},
      "outputs": [
        {
          "name": "stdout",
          "output_type": "stream",
          "text": [
            "Normalização Min-Max [0,1]\n"
          ]
        },
        {
          "data": {
            "text/html": [
              "<div>\n",
              "<style scoped>\n",
              "    .dataframe tbody tr th:only-of-type {\n",
              "        vertical-align: middle;\n",
              "    }\n",
              "\n",
              "    .dataframe tbody tr th {\n",
              "        vertical-align: top;\n",
              "    }\n",
              "\n",
              "    .dataframe thead th {\n",
              "        text-align: right;\n",
              "    }\n",
              "</style>\n",
              "<table border=\"1\" class=\"dataframe\">\n",
              "  <thead>\n",
              "    <tr style=\"text-align: right;\">\n",
              "      <th></th>\n",
              "      <th>gasoline</th>\n",
              "      <th>kerosene</th>\n",
              "      <th>lpg</th>\n",
              "      <th>thinner</th>\n",
              "      <th>SIZE</th>\n",
              "      <th>DISTANCE</th>\n",
              "      <th>DESIBEL</th>\n",
              "      <th>AIRFLOW</th>\n",
              "      <th>FREQUENCY</th>\n",
              "      <th>STATUS</th>\n",
              "    </tr>\n",
              "  </thead>\n",
              "  <tbody>\n",
              "    <tr>\n",
              "      <th>0</th>\n",
              "      <td>1.0</td>\n",
              "      <td>0.0</td>\n",
              "      <td>0.0</td>\n",
              "      <td>0.0</td>\n",
              "      <td>0.0</td>\n",
              "      <td>0.0</td>\n",
              "      <td>0.466667</td>\n",
              "      <td>0.000000</td>\n",
              "      <td>1.000000</td>\n",
              "      <td>0.0</td>\n",
              "    </tr>\n",
              "    <tr>\n",
              "      <th>1</th>\n",
              "      <td>1.0</td>\n",
              "      <td>0.0</td>\n",
              "      <td>0.0</td>\n",
              "      <td>0.0</td>\n",
              "      <td>0.0</td>\n",
              "      <td>0.0</td>\n",
              "      <td>0.466667</td>\n",
              "      <td>0.000000</td>\n",
              "      <td>0.959459</td>\n",
              "      <td>1.0</td>\n",
              "    </tr>\n",
              "    <tr>\n",
              "      <th>2</th>\n",
              "      <td>1.0</td>\n",
              "      <td>0.0</td>\n",
              "      <td>0.0</td>\n",
              "      <td>0.0</td>\n",
              "      <td>0.0</td>\n",
              "      <td>0.0</td>\n",
              "      <td>0.466667</td>\n",
              "      <td>0.159509</td>\n",
              "      <td>0.932432</td>\n",
              "      <td>1.0</td>\n",
              "    </tr>\n",
              "    <tr>\n",
              "      <th>3</th>\n",
              "      <td>1.0</td>\n",
              "      <td>0.0</td>\n",
              "      <td>0.0</td>\n",
              "      <td>0.0</td>\n",
              "      <td>0.0</td>\n",
              "      <td>0.0</td>\n",
              "      <td>0.466667</td>\n",
              "      <td>0.196319</td>\n",
              "      <td>0.905405</td>\n",
              "      <td>1.0</td>\n",
              "    </tr>\n",
              "    <tr>\n",
              "      <th>4</th>\n",
              "      <td>1.0</td>\n",
              "      <td>0.0</td>\n",
              "      <td>0.0</td>\n",
              "      <td>0.0</td>\n",
              "      <td>0.0</td>\n",
              "      <td>0.0</td>\n",
              "      <td>0.900000</td>\n",
              "      <td>0.276074</td>\n",
              "      <td>0.891892</td>\n",
              "      <td>1.0</td>\n",
              "    </tr>\n",
              "    <tr>\n",
              "      <th>...</th>\n",
              "      <td>...</td>\n",
              "      <td>...</td>\n",
              "      <td>...</td>\n",
              "      <td>...</td>\n",
              "      <td>...</td>\n",
              "      <td>...</td>\n",
              "      <td>...</td>\n",
              "      <td>...</td>\n",
              "      <td>...</td>\n",
              "      <td>...</td>\n",
              "    </tr>\n",
              "    <tr>\n",
              "      <th>17434</th>\n",
              "      <td>0.0</td>\n",
              "      <td>0.0</td>\n",
              "      <td>1.0</td>\n",
              "      <td>0.0</td>\n",
              "      <td>1.0</td>\n",
              "      <td>1.0</td>\n",
              "      <td>0.300000</td>\n",
              "      <td>0.116564</td>\n",
              "      <td>0.094595</td>\n",
              "      <td>0.0</td>\n",
              "    </tr>\n",
              "    <tr>\n",
              "      <th>17435</th>\n",
              "      <td>0.0</td>\n",
              "      <td>0.0</td>\n",
              "      <td>1.0</td>\n",
              "      <td>0.0</td>\n",
              "      <td>1.0</td>\n",
              "      <td>1.0</td>\n",
              "      <td>0.300000</td>\n",
              "      <td>0.098160</td>\n",
              "      <td>0.081081</td>\n",
              "      <td>0.0</td>\n",
              "    </tr>\n",
              "    <tr>\n",
              "      <th>17436</th>\n",
              "      <td>0.0</td>\n",
              "      <td>0.0</td>\n",
              "      <td>1.0</td>\n",
              "      <td>0.0</td>\n",
              "      <td>1.0</td>\n",
              "      <td>1.0</td>\n",
              "      <td>0.166667</td>\n",
              "      <td>0.153374</td>\n",
              "      <td>0.067568</td>\n",
              "      <td>0.0</td>\n",
              "    </tr>\n",
              "    <tr>\n",
              "      <th>17437</th>\n",
              "      <td>0.0</td>\n",
              "      <td>0.0</td>\n",
              "      <td>1.0</td>\n",
              "      <td>0.0</td>\n",
              "      <td>1.0</td>\n",
              "      <td>1.0</td>\n",
              "      <td>0.133333</td>\n",
              "      <td>0.134969</td>\n",
              "      <td>0.054054</td>\n",
              "      <td>0.0</td>\n",
              "    </tr>\n",
              "    <tr>\n",
              "      <th>17438</th>\n",
              "      <td>0.0</td>\n",
              "      <td>0.0</td>\n",
              "      <td>1.0</td>\n",
              "      <td>0.0</td>\n",
              "      <td>1.0</td>\n",
              "      <td>1.0</td>\n",
              "      <td>0.066667</td>\n",
              "      <td>0.122699</td>\n",
              "      <td>0.040541</td>\n",
              "      <td>0.0</td>\n",
              "    </tr>\n",
              "  </tbody>\n",
              "</table>\n",
              "<p>16813 rows × 10 columns</p>\n",
              "</div>"
            ],
            "text/plain": [
              "       gasoline  kerosene  lpg  thinner  SIZE  DISTANCE   DESIBEL   AIRFLOW  \\\n",
              "0           1.0       0.0  0.0      0.0   0.0       0.0  0.466667  0.000000   \n",
              "1           1.0       0.0  0.0      0.0   0.0       0.0  0.466667  0.000000   \n",
              "2           1.0       0.0  0.0      0.0   0.0       0.0  0.466667  0.159509   \n",
              "3           1.0       0.0  0.0      0.0   0.0       0.0  0.466667  0.196319   \n",
              "4           1.0       0.0  0.0      0.0   0.0       0.0  0.900000  0.276074   \n",
              "...         ...       ...  ...      ...   ...       ...       ...       ...   \n",
              "17434       0.0       0.0  1.0      0.0   1.0       1.0  0.300000  0.116564   \n",
              "17435       0.0       0.0  1.0      0.0   1.0       1.0  0.300000  0.098160   \n",
              "17436       0.0       0.0  1.0      0.0   1.0       1.0  0.166667  0.153374   \n",
              "17437       0.0       0.0  1.0      0.0   1.0       1.0  0.133333  0.134969   \n",
              "17438       0.0       0.0  1.0      0.0   1.0       1.0  0.066667  0.122699   \n",
              "\n",
              "       FREQUENCY  STATUS  \n",
              "0       1.000000     0.0  \n",
              "1       0.959459     1.0  \n",
              "2       0.932432     1.0  \n",
              "3       0.905405     1.0  \n",
              "4       0.891892     1.0  \n",
              "...          ...     ...  \n",
              "17434   0.094595     0.0  \n",
              "17435   0.081081     0.0  \n",
              "17436   0.067568     0.0  \n",
              "17437   0.054054     0.0  \n",
              "17438   0.040541     0.0  \n",
              "\n",
              "[16813 rows x 10 columns]"
            ]
          },
          "execution_count": 40,
          "metadata": {},
          "output_type": "execute_result"
        }
      ],
      "source": [
        "print(\"Normalização Min-Max [0,1]\")\n",
        "for column in df_dummies:\n",
        "    df_dummies[column] = (df_dummies[column] - df_dummies[column].min()) / (df_dummies[column].max()-df_dummies[column].min())\n",
        "df_dummies"
      ]
    },
    {
      "cell_type": "markdown",
      "metadata": {
        "id": "aN3Uq_dOhwWY"
      },
      "source": [
        "Determinação dos conjuntos de dados"
      ]
    },
    {
      "cell_type": "code",
      "execution_count": 41,
      "metadata": {
        "colab": {
          "base_uri": "https://localhost:8080/",
          "height": 206
        },
        "id": "mgT48p85h1lz",
        "outputId": "87217502-5e38-41ff-ddb7-e6c3c1d1c3f0"
      },
      "outputs": [
        {
          "data": {
            "text/html": [
              "<div>\n",
              "<style scoped>\n",
              "    .dataframe tbody tr th:only-of-type {\n",
              "        vertical-align: middle;\n",
              "    }\n",
              "\n",
              "    .dataframe tbody tr th {\n",
              "        vertical-align: top;\n",
              "    }\n",
              "\n",
              "    .dataframe thead th {\n",
              "        text-align: right;\n",
              "    }\n",
              "</style>\n",
              "<table border=\"1\" class=\"dataframe\">\n",
              "  <thead>\n",
              "    <tr style=\"text-align: right;\">\n",
              "      <th></th>\n",
              "      <th>STATUS</th>\n",
              "    </tr>\n",
              "  </thead>\n",
              "  <tbody>\n",
              "    <tr>\n",
              "      <th>0</th>\n",
              "      <td>0.0</td>\n",
              "    </tr>\n",
              "    <tr>\n",
              "      <th>1</th>\n",
              "      <td>1.0</td>\n",
              "    </tr>\n",
              "    <tr>\n",
              "      <th>2</th>\n",
              "      <td>1.0</td>\n",
              "    </tr>\n",
              "    <tr>\n",
              "      <th>3</th>\n",
              "      <td>1.0</td>\n",
              "    </tr>\n",
              "    <tr>\n",
              "      <th>4</th>\n",
              "      <td>1.0</td>\n",
              "    </tr>\n",
              "  </tbody>\n",
              "</table>\n",
              "</div>"
            ],
            "text/plain": [
              "   STATUS\n",
              "0     0.0\n",
              "1     1.0\n",
              "2     1.0\n",
              "3     1.0\n",
              "4     1.0"
            ]
          },
          "execution_count": 41,
          "metadata": {},
          "output_type": "execute_result"
        }
      ],
      "source": [
        "y = df_dummies.iloc[:,-1:]\n",
        "y.head()"
      ]
    },
    {
      "cell_type": "code",
      "execution_count": 42,
      "metadata": {
        "colab": {
          "base_uri": "https://localhost:8080/",
          "height": 206
        },
        "id": "a8h4WaPQkBYQ",
        "outputId": "38c55c42-608a-4e14-ea1d-7b0c70a66cbb"
      },
      "outputs": [
        {
          "data": {
            "text/html": [
              "<div>\n",
              "<style scoped>\n",
              "    .dataframe tbody tr th:only-of-type {\n",
              "        vertical-align: middle;\n",
              "    }\n",
              "\n",
              "    .dataframe tbody tr th {\n",
              "        vertical-align: top;\n",
              "    }\n",
              "\n",
              "    .dataframe thead th {\n",
              "        text-align: right;\n",
              "    }\n",
              "</style>\n",
              "<table border=\"1\" class=\"dataframe\">\n",
              "  <thead>\n",
              "    <tr style=\"text-align: right;\">\n",
              "      <th></th>\n",
              "      <th>gasoline</th>\n",
              "      <th>kerosene</th>\n",
              "      <th>lpg</th>\n",
              "      <th>thinner</th>\n",
              "      <th>SIZE</th>\n",
              "      <th>DISTANCE</th>\n",
              "      <th>DESIBEL</th>\n",
              "      <th>AIRFLOW</th>\n",
              "      <th>FREQUENCY</th>\n",
              "    </tr>\n",
              "  </thead>\n",
              "  <tbody>\n",
              "    <tr>\n",
              "      <th>0</th>\n",
              "      <td>1.0</td>\n",
              "      <td>0.0</td>\n",
              "      <td>0.0</td>\n",
              "      <td>0.0</td>\n",
              "      <td>0.0</td>\n",
              "      <td>0.0</td>\n",
              "      <td>0.466667</td>\n",
              "      <td>0.000000</td>\n",
              "      <td>1.000000</td>\n",
              "    </tr>\n",
              "    <tr>\n",
              "      <th>1</th>\n",
              "      <td>1.0</td>\n",
              "      <td>0.0</td>\n",
              "      <td>0.0</td>\n",
              "      <td>0.0</td>\n",
              "      <td>0.0</td>\n",
              "      <td>0.0</td>\n",
              "      <td>0.466667</td>\n",
              "      <td>0.000000</td>\n",
              "      <td>0.959459</td>\n",
              "    </tr>\n",
              "    <tr>\n",
              "      <th>2</th>\n",
              "      <td>1.0</td>\n",
              "      <td>0.0</td>\n",
              "      <td>0.0</td>\n",
              "      <td>0.0</td>\n",
              "      <td>0.0</td>\n",
              "      <td>0.0</td>\n",
              "      <td>0.466667</td>\n",
              "      <td>0.159509</td>\n",
              "      <td>0.932432</td>\n",
              "    </tr>\n",
              "    <tr>\n",
              "      <th>3</th>\n",
              "      <td>1.0</td>\n",
              "      <td>0.0</td>\n",
              "      <td>0.0</td>\n",
              "      <td>0.0</td>\n",
              "      <td>0.0</td>\n",
              "      <td>0.0</td>\n",
              "      <td>0.466667</td>\n",
              "      <td>0.196319</td>\n",
              "      <td>0.905405</td>\n",
              "    </tr>\n",
              "    <tr>\n",
              "      <th>4</th>\n",
              "      <td>1.0</td>\n",
              "      <td>0.0</td>\n",
              "      <td>0.0</td>\n",
              "      <td>0.0</td>\n",
              "      <td>0.0</td>\n",
              "      <td>0.0</td>\n",
              "      <td>0.900000</td>\n",
              "      <td>0.276074</td>\n",
              "      <td>0.891892</td>\n",
              "    </tr>\n",
              "  </tbody>\n",
              "</table>\n",
              "</div>"
            ],
            "text/plain": [
              "   gasoline  kerosene  lpg  thinner  SIZE  DISTANCE   DESIBEL   AIRFLOW  \\\n",
              "0       1.0       0.0  0.0      0.0   0.0       0.0  0.466667  0.000000   \n",
              "1       1.0       0.0  0.0      0.0   0.0       0.0  0.466667  0.000000   \n",
              "2       1.0       0.0  0.0      0.0   0.0       0.0  0.466667  0.159509   \n",
              "3       1.0       0.0  0.0      0.0   0.0       0.0  0.466667  0.196319   \n",
              "4       1.0       0.0  0.0      0.0   0.0       0.0  0.900000  0.276074   \n",
              "\n",
              "   FREQUENCY  \n",
              "0   1.000000  \n",
              "1   0.959459  \n",
              "2   0.932432  \n",
              "3   0.905405  \n",
              "4   0.891892  "
            ]
          },
          "execution_count": 42,
          "metadata": {},
          "output_type": "execute_result"
        }
      ],
      "source": [
        "X = df_dummies.iloc[:,:-1]\n",
        "X.head()"
      ]
    },
    {
      "cell_type": "markdown",
      "metadata": {
        "id": "Nckr9YwSkoYq"
      },
      "source": [
        "Separação do conjunto em dados de treino e teste"
      ]
    },
    {
      "cell_type": "code",
      "execution_count": 43,
      "metadata": {
        "id": "ez_tu6i_kirc"
      },
      "outputs": [],
      "source": [
        "# porcentagem de separação dos conjuntos teste e treino\n",
        "percent=0.2 # 20% teste 80% treino\n",
        "\n",
        "X_train , X_test, y_train, y_test = train_test_split(X, y, test_size=percent, random_state=42)"
      ]
    },
    {
      "cell_type": "markdown",
      "metadata": {
        "id": "9EbHdbzxlDBq"
      },
      "source": [
        "Normalização dos conjuntos"
      ]
    },
    {
      "cell_type": "code",
      "execution_count": null,
      "metadata": {
        "id": "UuceDwH_keGl"
      },
      "outputs": [],
      "source": []
    }
  ],
  "metadata": {
    "colab": {
      "name": "ML_Projeto.ipynb",
      "provenance": []
    },
    "interpreter": {
      "hash": "369f2c481f4da34e4445cda3fffd2e751bd1c4d706f27375911949ba6bb62e1c"
    },
    "kernelspec": {
      "display_name": "Python 3.10.2 64-bit",
      "language": "python",
      "name": "python3"
    },
    "language_info": {
      "codemirror_mode": {
        "name": "ipython",
        "version": 3
      },
      "file_extension": ".py",
      "mimetype": "text/x-python",
      "name": "python",
      "nbconvert_exporter": "python",
      "pygments_lexer": "ipython3",
      "version": "3.10.2"
    }
  },
  "nbformat": 4,
  "nbformat_minor": 0
}
