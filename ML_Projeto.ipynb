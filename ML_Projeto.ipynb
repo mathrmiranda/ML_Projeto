{
  "cells": [
    {
      "cell_type": "markdown",
      "metadata": {
        "id": "pWK9aE5ia_rW"
      },
      "source": [
        "Leitura dos dados no documento excel `Acoustic_Extinguisher_Fire_Dataset.xlsx`."
      ]
    },
    {
      "cell_type": "code",
      "execution_count": 18,
      "metadata": {
        "colab": {
          "base_uri": "https://localhost:8080/",
          "height": 206
        },
        "id": "ERemtZEBV125",
        "outputId": "5fd14722-744a-4d13-c0b5-865e11abe8d7"
      },
      "outputs": [
        {
          "output_type": "execute_result",
          "data": {
            "text/plain": [
              "   SIZE      FUEL  DISTANCE  DESIBEL  AIRFLOW  FREQUENCY  STATUS\n",
              "0     1  gasoline        10       96      0.0         75       0\n",
              "1     1  gasoline        10       96      0.0         72       1\n",
              "2     1  gasoline        10       96      2.6         70       1\n",
              "3     1  gasoline        10       96      3.2         68       1\n",
              "4     1  gasoline        10      109      4.5         67       1"
            ],
            "text/html": [
              "\n",
              "  <div id=\"df-853d891f-c689-4d62-9671-4cbc5537ec73\">\n",
              "    <div class=\"colab-df-container\">\n",
              "      <div>\n",
              "<style scoped>\n",
              "    .dataframe tbody tr th:only-of-type {\n",
              "        vertical-align: middle;\n",
              "    }\n",
              "\n",
              "    .dataframe tbody tr th {\n",
              "        vertical-align: top;\n",
              "    }\n",
              "\n",
              "    .dataframe thead th {\n",
              "        text-align: right;\n",
              "    }\n",
              "</style>\n",
              "<table border=\"1\" class=\"dataframe\">\n",
              "  <thead>\n",
              "    <tr style=\"text-align: right;\">\n",
              "      <th></th>\n",
              "      <th>SIZE</th>\n",
              "      <th>FUEL</th>\n",
              "      <th>DISTANCE</th>\n",
              "      <th>DESIBEL</th>\n",
              "      <th>AIRFLOW</th>\n",
              "      <th>FREQUENCY</th>\n",
              "      <th>STATUS</th>\n",
              "    </tr>\n",
              "  </thead>\n",
              "  <tbody>\n",
              "    <tr>\n",
              "      <th>0</th>\n",
              "      <td>1</td>\n",
              "      <td>gasoline</td>\n",
              "      <td>10</td>\n",
              "      <td>96</td>\n",
              "      <td>0.0</td>\n",
              "      <td>75</td>\n",
              "      <td>0</td>\n",
              "    </tr>\n",
              "    <tr>\n",
              "      <th>1</th>\n",
              "      <td>1</td>\n",
              "      <td>gasoline</td>\n",
              "      <td>10</td>\n",
              "      <td>96</td>\n",
              "      <td>0.0</td>\n",
              "      <td>72</td>\n",
              "      <td>1</td>\n",
              "    </tr>\n",
              "    <tr>\n",
              "      <th>2</th>\n",
              "      <td>1</td>\n",
              "      <td>gasoline</td>\n",
              "      <td>10</td>\n",
              "      <td>96</td>\n",
              "      <td>2.6</td>\n",
              "      <td>70</td>\n",
              "      <td>1</td>\n",
              "    </tr>\n",
              "    <tr>\n",
              "      <th>3</th>\n",
              "      <td>1</td>\n",
              "      <td>gasoline</td>\n",
              "      <td>10</td>\n",
              "      <td>96</td>\n",
              "      <td>3.2</td>\n",
              "      <td>68</td>\n",
              "      <td>1</td>\n",
              "    </tr>\n",
              "    <tr>\n",
              "      <th>4</th>\n",
              "      <td>1</td>\n",
              "      <td>gasoline</td>\n",
              "      <td>10</td>\n",
              "      <td>109</td>\n",
              "      <td>4.5</td>\n",
              "      <td>67</td>\n",
              "      <td>1</td>\n",
              "    </tr>\n",
              "  </tbody>\n",
              "</table>\n",
              "</div>\n",
              "      <button class=\"colab-df-convert\" onclick=\"convertToInteractive('df-853d891f-c689-4d62-9671-4cbc5537ec73')\"\n",
              "              title=\"Convert this dataframe to an interactive table.\"\n",
              "              style=\"display:none;\">\n",
              "        \n",
              "  <svg xmlns=\"http://www.w3.org/2000/svg\" height=\"24px\"viewBox=\"0 0 24 24\"\n",
              "       width=\"24px\">\n",
              "    <path d=\"M0 0h24v24H0V0z\" fill=\"none\"/>\n",
              "    <path d=\"M18.56 5.44l.94 2.06.94-2.06 2.06-.94-2.06-.94-.94-2.06-.94 2.06-2.06.94zm-11 1L8.5 8.5l.94-2.06 2.06-.94-2.06-.94L8.5 2.5l-.94 2.06-2.06.94zm10 10l.94 2.06.94-2.06 2.06-.94-2.06-.94-.94-2.06-.94 2.06-2.06.94z\"/><path d=\"M17.41 7.96l-1.37-1.37c-.4-.4-.92-.59-1.43-.59-.52 0-1.04.2-1.43.59L10.3 9.45l-7.72 7.72c-.78.78-.78 2.05 0 2.83L4 21.41c.39.39.9.59 1.41.59.51 0 1.02-.2 1.41-.59l7.78-7.78 2.81-2.81c.8-.78.8-2.07 0-2.86zM5.41 20L4 18.59l7.72-7.72 1.47 1.35L5.41 20z\"/>\n",
              "  </svg>\n",
              "      </button>\n",
              "      \n",
              "  <style>\n",
              "    .colab-df-container {\n",
              "      display:flex;\n",
              "      flex-wrap:wrap;\n",
              "      gap: 12px;\n",
              "    }\n",
              "\n",
              "    .colab-df-convert {\n",
              "      background-color: #E8F0FE;\n",
              "      border: none;\n",
              "      border-radius: 50%;\n",
              "      cursor: pointer;\n",
              "      display: none;\n",
              "      fill: #1967D2;\n",
              "      height: 32px;\n",
              "      padding: 0 0 0 0;\n",
              "      width: 32px;\n",
              "    }\n",
              "\n",
              "    .colab-df-convert:hover {\n",
              "      background-color: #E2EBFA;\n",
              "      box-shadow: 0px 1px 2px rgba(60, 64, 67, 0.3), 0px 1px 3px 1px rgba(60, 64, 67, 0.15);\n",
              "      fill: #174EA6;\n",
              "    }\n",
              "\n",
              "    [theme=dark] .colab-df-convert {\n",
              "      background-color: #3B4455;\n",
              "      fill: #D2E3FC;\n",
              "    }\n",
              "\n",
              "    [theme=dark] .colab-df-convert:hover {\n",
              "      background-color: #434B5C;\n",
              "      box-shadow: 0px 1px 3px 1px rgba(0, 0, 0, 0.15);\n",
              "      filter: drop-shadow(0px 1px 2px rgba(0, 0, 0, 0.3));\n",
              "      fill: #FFFFFF;\n",
              "    }\n",
              "  </style>\n",
              "\n",
              "      <script>\n",
              "        const buttonEl =\n",
              "          document.querySelector('#df-853d891f-c689-4d62-9671-4cbc5537ec73 button.colab-df-convert');\n",
              "        buttonEl.style.display =\n",
              "          google.colab.kernel.accessAllowed ? 'block' : 'none';\n",
              "\n",
              "        async function convertToInteractive(key) {\n",
              "          const element = document.querySelector('#df-853d891f-c689-4d62-9671-4cbc5537ec73');\n",
              "          const dataTable =\n",
              "            await google.colab.kernel.invokeFunction('convertToInteractive',\n",
              "                                                     [key], {});\n",
              "          if (!dataTable) return;\n",
              "\n",
              "          const docLinkHtml = 'Like what you see? Visit the ' +\n",
              "            '<a target=\"_blank\" href=https://colab.research.google.com/notebooks/data_table.ipynb>data table notebook</a>'\n",
              "            + ' to learn more about interactive tables.';\n",
              "          element.innerHTML = '';\n",
              "          dataTable['output_type'] = 'display_data';\n",
              "          await google.colab.output.renderOutput(dataTable, element);\n",
              "          const docLink = document.createElement('div');\n",
              "          docLink.innerHTML = docLinkHtml;\n",
              "          element.appendChild(docLink);\n",
              "        }\n",
              "      </script>\n",
              "    </div>\n",
              "  </div>\n",
              "  "
            ]
          },
          "metadata": {},
          "execution_count": 18
        }
      ],
      "source": [
        "import numpy as np\n",
        "import pandas as pd\n",
        "\n",
        "df = pd.read_excel('./Acoustic_Extinguisher_Fire_Dataset/Acoustic_Extinguisher_Fire_Dataset.xlsx')\n",
        "df.head()"
      ]
    },
    {
      "cell_type": "code",
      "source": [
        "desvp = df['AIRFLOW'].std()\n",
        "desvp"
      ],
      "metadata": {
        "colab": {
          "base_uri": "https://localhost:8080/"
        },
        "id": "ecsHP2MAdsP8",
        "outputId": "701a91e0-b10f-4392-d716-7014d842f02f"
      },
      "execution_count": 19,
      "outputs": [
        {
          "output_type": "execute_result",
          "data": {
            "text/plain": [
              "4.736168980755709"
            ]
          },
          "metadata": {},
          "execution_count": 19
        }
      ]
    },
    {
      "cell_type": "markdown",
      "metadata": {
        "id": "GdMaddC5a_re"
      },
      "source": [
        "Detecção e remoção dos outliers no atributo **`AIRFLOW`** pela distribuição dos dados."
      ]
    },
    {
      "cell_type": "code",
      "execution_count": 20,
      "metadata": {
        "id": "reQW6ttSWDEC",
        "colab": {
          "base_uri": "https://localhost:8080/"
        },
        "outputId": "e8ee4084-ce8b-493a-8958-3b54dfefe9f2"
      },
      "outputs": [
        {
          "output_type": "stream",
          "name": "stdout",
          "text": [
            "media = 6.98, desvio padrao = 4.74\n",
            "Outliers: 34\n",
            "Inliers: 17408\n"
          ]
        }
      ],
      "source": [
        "desvp = df['AIRFLOW'].std()\n",
        "media = df['AIRFLOW'].mean()\n",
        "\n",
        "print(\"media = %.2f, desvio padrao = %.2f\" % (media, desvp))\n",
        "\n",
        "# apenas outliers segundo std\n",
        "df_out_airflow = df[(df['AIRFLOW'] < media-(desvp*2)) | (df['AIRFLOW'] > media+(desvp*2))]\n",
        "print(\"Outliers:\", len(df_out_airflow))\n",
        "\n",
        "# apenas inliers segundo std\n",
        "df_in_airflow = df[(df['AIRFLOW'] >= media-(desvp*2)) & (df['AIRFLOW'] <= media+(desvp*2))]\n",
        "print(\"Inliers:\", len(df_in_airflow))\n",
        "\n",
        "#removendo outliers\n",
        "df = df_in_airflow"
      ]
    },
    {
      "cell_type": "markdown",
      "metadata": {
        "id": "5FCjXDiMa_rg"
      },
      "source": [
        "Detecção e remoção dos outliers no atributo **`DESIBEL`** pela distribuição dos dados."
      ]
    },
    {
      "cell_type": "code",
      "execution_count": 21,
      "metadata": {
        "colab": {
          "base_uri": "https://localhost:8080/"
        },
        "id": "h1LFDyz5a_rg",
        "outputId": "4157e2a8-7e3d-45d7-9e3b-3e84cb6abd54"
      },
      "outputs": [
        {
          "output_type": "stream",
          "name": "stdout",
          "text": [
            "media = 96.35, desvio padrao = 8.15\n",
            "Outliers: 595\n",
            "Inliers: 16813\n"
          ]
        }
      ],
      "source": [
        "desvp = df['DESIBEL'].std()\n",
        "media = df['DESIBEL'].mean()\n",
        "\n",
        "print(\"media = %.2f, desvio padrao = %.2f\" % (media, desvp))\n",
        "\n",
        "# apenas outliers segundo std\n",
        "df_out_desibel = df[(df['DESIBEL'] < media-(desvp*2)) | (df['DESIBEL'] > media+(desvp*2))]\n",
        "print(\"Outliers:\", len(df_out_desibel))\n",
        "\n",
        "# apenas inliers segundo std\n",
        "df_in_desibel = df[(df['DESIBEL'] >= media-(desvp*2)) & (df['DESIBEL'] <= media+(desvp*2))]\n",
        "print(\"Inliers:\", len(df_in_desibel))\n",
        "\n",
        "#removendo outliers\n",
        "df = df_in_desibel"
      ]
    },
    {
      "cell_type": "markdown",
      "source": [
        "Detecção e remoção dos outliers no atributo **`FREQUENCY`** pela distribuição dos dados."
      ],
      "metadata": {
        "id": "l8_lFZgrdBed"
      }
    },
    {
      "cell_type": "code",
      "source": [
        "desvp = df['FREQUENCY'].std()\n",
        "media = df['FREQUENCY'].mean()\n",
        "\n",
        "print(\"media = %.2f, desvio padrao = %.2f\" % (media, desvp))\n",
        "\n",
        "# apenas outliers segundo std\n",
        "df_out_freq = df[(df['FREQUENCY'] < media-(desvp*2)) | (df['FREQUENCY'] > media+(desvp*2))]\n",
        "print(\"Outliers:\", len(df_out_freq))\n",
        "\n",
        "# apenas inliers segundo std\n",
        "df_in_freq = df[(df['FREQUENCY'] >= media-(desvp*2)) & (df['FREQUENCY'] <= media+(desvp*2))]\n",
        "print(\"Inliers:\", len(df_in_freq))\n",
        "\n",
        "#removendo outliers\n",
        "df = df_in_freq"
      ],
      "metadata": {
        "colab": {
          "base_uri": "https://localhost:8080/"
        },
        "id": "cbI3O3eRc9aJ",
        "outputId": "fe55efaa-44c9-45fb-f0f5-dcc2882f7ac8"
      },
      "execution_count": 22,
      "outputs": [
        {
          "output_type": "stream",
          "name": "stdout",
          "text": [
            "media = 32.63, desvio padrao = 20.55\n",
            "Outliers: 323\n",
            "Inliers: 16490\n"
          ]
        }
      ]
    },
    {
      "cell_type": "markdown",
      "source": [
        "Detecção e remoção dos outliers no atributo **`DISTANCE`** pela distribuição dos dados."
      ],
      "metadata": {
        "id": "N8rdJfcPe4Td"
      }
    },
    {
      "cell_type": "code",
      "source": [
        "desvp = df['DISTANCE'].std()\n",
        "media = df['DISTANCE'].mean()\n",
        "\n",
        "print(\"media = %.2f, desvio padrao = %.2f\" % (media, desvp))\n",
        "\n",
        "# apenas outliers segundo std\n",
        "df_out_dist = df[(df['DISTANCE'] < media-(desvp*2)) | (df['DISTANCE'] > media+(desvp*2))]\n",
        "print(\"Outliers:\", len(df_out_dist))\n",
        "\n",
        "# apenas inliers segundo std\n",
        "df_in_dist = df[(df['DISTANCE'] >= media-(desvp*2)) & (df['DISTANCE'] <= media+(desvp*2))]\n",
        "print(\"Inliers:\", len(df_in_dist))\n",
        "\n",
        "#removendo outliers\n",
        "df = df_in_dist"
      ],
      "metadata": {
        "colab": {
          "base_uri": "https://localhost:8080/"
        },
        "id": "P8BqVeq6e25G",
        "outputId": "e3169057-6c2b-4106-cc70-277f1e048d1c"
      },
      "execution_count": 23,
      "outputs": [
        {
          "output_type": "stream",
          "name": "stdout",
          "text": [
            "media = 100.06, desvio padrao = 54.54\n",
            "Outliers: 0\n",
            "Inliers: 16490\n"
          ]
        }
      ]
    },
    {
      "cell_type": "markdown",
      "source": [
        "Verificação de dados faltando em todas as colunas."
      ],
      "metadata": {
        "id": "Ha0sBQQRfbaV"
      }
    },
    {
      "cell_type": "code",
      "source": [
        "df.isna().sum()"
      ],
      "metadata": {
        "colab": {
          "base_uri": "https://localhost:8080/"
        },
        "id": "yA_jf9a9fYFr",
        "outputId": "a89bcabb-0fb8-4644-9e8b-05defe820811"
      },
      "execution_count": 24,
      "outputs": [
        {
          "output_type": "execute_result",
          "data": {
            "text/plain": [
              "SIZE         0\n",
              "FUEL         0\n",
              "DISTANCE     0\n",
              "DESIBEL      0\n",
              "AIRFLOW      0\n",
              "FREQUENCY    0\n",
              "STATUS       0\n",
              "dtype: int64"
            ]
          },
          "metadata": {},
          "execution_count": 24
        }
      ]
    },
    {
      "cell_type": "markdown",
      "source": [
        "Verficação de dados nulos em todas as colunas"
      ],
      "metadata": {
        "id": "2jeyo3BXfgHH"
      }
    },
    {
      "cell_type": "code",
      "source": [
        "df.isnull().sum()"
      ],
      "metadata": {
        "colab": {
          "base_uri": "https://localhost:8080/"
        },
        "id": "XJAE3DvwfifA",
        "outputId": "15b5c489-c1b0-4b96-f3be-15e3c05186c2"
      },
      "execution_count": 25,
      "outputs": [
        {
          "output_type": "execute_result",
          "data": {
            "text/plain": [
              "SIZE         0\n",
              "FUEL         0\n",
              "DISTANCE     0\n",
              "DESIBEL      0\n",
              "AIRFLOW      0\n",
              "FREQUENCY    0\n",
              "STATUS       0\n",
              "dtype: int64"
            ]
          },
          "metadata": {},
          "execution_count": 25
        }
      ]
    },
    {
      "cell_type": "markdown",
      "metadata": {
        "id": "1k0i18s6a_rh"
      },
      "source": [
        "Dados após o tratamento de outliers."
      ]
    },
    {
      "cell_type": "code",
      "execution_count": 16,
      "metadata": {
        "colab": {
          "base_uri": "https://localhost:8080/",
          "height": 424
        },
        "id": "Z7pXiJYna_ri",
        "outputId": "6795d095-a4dc-484c-b65c-9269a5d42b36"
      },
      "outputs": [
        {
          "output_type": "execute_result",
          "data": {
            "text/plain": [
              "       SIZE      FUEL  DISTANCE  DESIBEL  AIRFLOW  FREQUENCY  STATUS\n",
              "1         1  gasoline        10       96      0.0         72       1\n",
              "2         1  gasoline        10       96      2.6         70       1\n",
              "3         1  gasoline        10       96      3.2         68       1\n",
              "4         1  gasoline        10      109      4.5         67       1\n",
              "5         1  gasoline        10      109      7.8         66       1\n",
              "...     ...       ...       ...      ...      ...        ...     ...\n",
              "17434     7       lpg       190       91      1.9          8       0\n",
              "17435     7       lpg       190       91      1.6          7       0\n",
              "17436     7       lpg       190       87      2.5          6       0\n",
              "17437     7       lpg       190       86      2.2          5       0\n",
              "17438     7       lpg       190       84      2.0          4       0\n",
              "\n",
              "[16490 rows x 7 columns]"
            ],
            "text/html": [
              "\n",
              "  <div id=\"df-195e4afe-99ec-42fb-814d-a03186cd240c\">\n",
              "    <div class=\"colab-df-container\">\n",
              "      <div>\n",
              "<style scoped>\n",
              "    .dataframe tbody tr th:only-of-type {\n",
              "        vertical-align: middle;\n",
              "    }\n",
              "\n",
              "    .dataframe tbody tr th {\n",
              "        vertical-align: top;\n",
              "    }\n",
              "\n",
              "    .dataframe thead th {\n",
              "        text-align: right;\n",
              "    }\n",
              "</style>\n",
              "<table border=\"1\" class=\"dataframe\">\n",
              "  <thead>\n",
              "    <tr style=\"text-align: right;\">\n",
              "      <th></th>\n",
              "      <th>SIZE</th>\n",
              "      <th>FUEL</th>\n",
              "      <th>DISTANCE</th>\n",
              "      <th>DESIBEL</th>\n",
              "      <th>AIRFLOW</th>\n",
              "      <th>FREQUENCY</th>\n",
              "      <th>STATUS</th>\n",
              "    </tr>\n",
              "  </thead>\n",
              "  <tbody>\n",
              "    <tr>\n",
              "      <th>1</th>\n",
              "      <td>1</td>\n",
              "      <td>gasoline</td>\n",
              "      <td>10</td>\n",
              "      <td>96</td>\n",
              "      <td>0.0</td>\n",
              "      <td>72</td>\n",
              "      <td>1</td>\n",
              "    </tr>\n",
              "    <tr>\n",
              "      <th>2</th>\n",
              "      <td>1</td>\n",
              "      <td>gasoline</td>\n",
              "      <td>10</td>\n",
              "      <td>96</td>\n",
              "      <td>2.6</td>\n",
              "      <td>70</td>\n",
              "      <td>1</td>\n",
              "    </tr>\n",
              "    <tr>\n",
              "      <th>3</th>\n",
              "      <td>1</td>\n",
              "      <td>gasoline</td>\n",
              "      <td>10</td>\n",
              "      <td>96</td>\n",
              "      <td>3.2</td>\n",
              "      <td>68</td>\n",
              "      <td>1</td>\n",
              "    </tr>\n",
              "    <tr>\n",
              "      <th>4</th>\n",
              "      <td>1</td>\n",
              "      <td>gasoline</td>\n",
              "      <td>10</td>\n",
              "      <td>109</td>\n",
              "      <td>4.5</td>\n",
              "      <td>67</td>\n",
              "      <td>1</td>\n",
              "    </tr>\n",
              "    <tr>\n",
              "      <th>5</th>\n",
              "      <td>1</td>\n",
              "      <td>gasoline</td>\n",
              "      <td>10</td>\n",
              "      <td>109</td>\n",
              "      <td>7.8</td>\n",
              "      <td>66</td>\n",
              "      <td>1</td>\n",
              "    </tr>\n",
              "    <tr>\n",
              "      <th>...</th>\n",
              "      <td>...</td>\n",
              "      <td>...</td>\n",
              "      <td>...</td>\n",
              "      <td>...</td>\n",
              "      <td>...</td>\n",
              "      <td>...</td>\n",
              "      <td>...</td>\n",
              "    </tr>\n",
              "    <tr>\n",
              "      <th>17434</th>\n",
              "      <td>7</td>\n",
              "      <td>lpg</td>\n",
              "      <td>190</td>\n",
              "      <td>91</td>\n",
              "      <td>1.9</td>\n",
              "      <td>8</td>\n",
              "      <td>0</td>\n",
              "    </tr>\n",
              "    <tr>\n",
              "      <th>17435</th>\n",
              "      <td>7</td>\n",
              "      <td>lpg</td>\n",
              "      <td>190</td>\n",
              "      <td>91</td>\n",
              "      <td>1.6</td>\n",
              "      <td>7</td>\n",
              "      <td>0</td>\n",
              "    </tr>\n",
              "    <tr>\n",
              "      <th>17436</th>\n",
              "      <td>7</td>\n",
              "      <td>lpg</td>\n",
              "      <td>190</td>\n",
              "      <td>87</td>\n",
              "      <td>2.5</td>\n",
              "      <td>6</td>\n",
              "      <td>0</td>\n",
              "    </tr>\n",
              "    <tr>\n",
              "      <th>17437</th>\n",
              "      <td>7</td>\n",
              "      <td>lpg</td>\n",
              "      <td>190</td>\n",
              "      <td>86</td>\n",
              "      <td>2.2</td>\n",
              "      <td>5</td>\n",
              "      <td>0</td>\n",
              "    </tr>\n",
              "    <tr>\n",
              "      <th>17438</th>\n",
              "      <td>7</td>\n",
              "      <td>lpg</td>\n",
              "      <td>190</td>\n",
              "      <td>84</td>\n",
              "      <td>2.0</td>\n",
              "      <td>4</td>\n",
              "      <td>0</td>\n",
              "    </tr>\n",
              "  </tbody>\n",
              "</table>\n",
              "<p>16490 rows × 7 columns</p>\n",
              "</div>\n",
              "      <button class=\"colab-df-convert\" onclick=\"convertToInteractive('df-195e4afe-99ec-42fb-814d-a03186cd240c')\"\n",
              "              title=\"Convert this dataframe to an interactive table.\"\n",
              "              style=\"display:none;\">\n",
              "        \n",
              "  <svg xmlns=\"http://www.w3.org/2000/svg\" height=\"24px\"viewBox=\"0 0 24 24\"\n",
              "       width=\"24px\">\n",
              "    <path d=\"M0 0h24v24H0V0z\" fill=\"none\"/>\n",
              "    <path d=\"M18.56 5.44l.94 2.06.94-2.06 2.06-.94-2.06-.94-.94-2.06-.94 2.06-2.06.94zm-11 1L8.5 8.5l.94-2.06 2.06-.94-2.06-.94L8.5 2.5l-.94 2.06-2.06.94zm10 10l.94 2.06.94-2.06 2.06-.94-2.06-.94-.94-2.06-.94 2.06-2.06.94z\"/><path d=\"M17.41 7.96l-1.37-1.37c-.4-.4-.92-.59-1.43-.59-.52 0-1.04.2-1.43.59L10.3 9.45l-7.72 7.72c-.78.78-.78 2.05 0 2.83L4 21.41c.39.39.9.59 1.41.59.51 0 1.02-.2 1.41-.59l7.78-7.78 2.81-2.81c.8-.78.8-2.07 0-2.86zM5.41 20L4 18.59l7.72-7.72 1.47 1.35L5.41 20z\"/>\n",
              "  </svg>\n",
              "      </button>\n",
              "      \n",
              "  <style>\n",
              "    .colab-df-container {\n",
              "      display:flex;\n",
              "      flex-wrap:wrap;\n",
              "      gap: 12px;\n",
              "    }\n",
              "\n",
              "    .colab-df-convert {\n",
              "      background-color: #E8F0FE;\n",
              "      border: none;\n",
              "      border-radius: 50%;\n",
              "      cursor: pointer;\n",
              "      display: none;\n",
              "      fill: #1967D2;\n",
              "      height: 32px;\n",
              "      padding: 0 0 0 0;\n",
              "      width: 32px;\n",
              "    }\n",
              "\n",
              "    .colab-df-convert:hover {\n",
              "      background-color: #E2EBFA;\n",
              "      box-shadow: 0px 1px 2px rgba(60, 64, 67, 0.3), 0px 1px 3px 1px rgba(60, 64, 67, 0.15);\n",
              "      fill: #174EA6;\n",
              "    }\n",
              "\n",
              "    [theme=dark] .colab-df-convert {\n",
              "      background-color: #3B4455;\n",
              "      fill: #D2E3FC;\n",
              "    }\n",
              "\n",
              "    [theme=dark] .colab-df-convert:hover {\n",
              "      background-color: #434B5C;\n",
              "      box-shadow: 0px 1px 3px 1px rgba(0, 0, 0, 0.15);\n",
              "      filter: drop-shadow(0px 1px 2px rgba(0, 0, 0, 0.3));\n",
              "      fill: #FFFFFF;\n",
              "    }\n",
              "  </style>\n",
              "\n",
              "      <script>\n",
              "        const buttonEl =\n",
              "          document.querySelector('#df-195e4afe-99ec-42fb-814d-a03186cd240c button.colab-df-convert');\n",
              "        buttonEl.style.display =\n",
              "          google.colab.kernel.accessAllowed ? 'block' : 'none';\n",
              "\n",
              "        async function convertToInteractive(key) {\n",
              "          const element = document.querySelector('#df-195e4afe-99ec-42fb-814d-a03186cd240c');\n",
              "          const dataTable =\n",
              "            await google.colab.kernel.invokeFunction('convertToInteractive',\n",
              "                                                     [key], {});\n",
              "          if (!dataTable) return;\n",
              "\n",
              "          const docLinkHtml = 'Like what you see? Visit the ' +\n",
              "            '<a target=\"_blank\" href=https://colab.research.google.com/notebooks/data_table.ipynb>data table notebook</a>'\n",
              "            + ' to learn more about interactive tables.';\n",
              "          element.innerHTML = '';\n",
              "          dataTable['output_type'] = 'display_data';\n",
              "          await google.colab.output.renderOutput(dataTable, element);\n",
              "          const docLink = document.createElement('div');\n",
              "          docLink.innerHTML = docLinkHtml;\n",
              "          element.appendChild(docLink);\n",
              "        }\n",
              "      </script>\n",
              "    </div>\n",
              "  </div>\n",
              "  "
            ]
          },
          "metadata": {},
          "execution_count": 16
        }
      ],
      "source": [
        "df"
      ]
    },
    {
      "cell_type": "markdown",
      "metadata": {
        "id": "UdolhHMAa_rj"
      },
      "source": [
        "Convertemos os atributos categóricos **FUEL** em numéricos usando a técnica one-hot encoding através do método `get_dummies` no `pandas`.\n",
        "\n",
        "Como resultado, os quatro tipos de combustíveis presentes (`gasoline`, `kerosene`, `lpg` e `thinner`) foram separados em 4 atributos com valores 0 ou 1."
      ]
    },
    {
      "cell_type": "code",
      "execution_count": 17,
      "metadata": {
        "colab": {
          "base_uri": "https://localhost:8080/",
          "height": 424
        },
        "id": "ndGkjn7Aa_rj",
        "outputId": "90d21b6b-587e-46a6-d0de-aea094c3a2a9"
      },
      "outputs": [
        {
          "output_type": "execute_result",
          "data": {
            "text/plain": [
              "       gasoline  kerosene  lpg  thinner  SIZE  DISTANCE  DESIBEL  AIRFLOW  \\\n",
              "1             1         0    0        0     1        10       96      0.0   \n",
              "2             1         0    0        0     1        10       96      2.6   \n",
              "3             1         0    0        0     1        10       96      3.2   \n",
              "4             1         0    0        0     1        10      109      4.5   \n",
              "5             1         0    0        0     1        10      109      7.8   \n",
              "...         ...       ...  ...      ...   ...       ...      ...      ...   \n",
              "17434         0         0    1        0     7       190       91      1.9   \n",
              "17435         0         0    1        0     7       190       91      1.6   \n",
              "17436         0         0    1        0     7       190       87      2.5   \n",
              "17437         0         0    1        0     7       190       86      2.2   \n",
              "17438         0         0    1        0     7       190       84      2.0   \n",
              "\n",
              "       FREQUENCY  STATUS  \n",
              "1             72       1  \n",
              "2             70       1  \n",
              "3             68       1  \n",
              "4             67       1  \n",
              "5             66       1  \n",
              "...          ...     ...  \n",
              "17434          8       0  \n",
              "17435          7       0  \n",
              "17436          6       0  \n",
              "17437          5       0  \n",
              "17438          4       0  \n",
              "\n",
              "[16490 rows x 10 columns]"
            ],
            "text/html": [
              "\n",
              "  <div id=\"df-3f50d455-2aee-4f18-9201-6817d33ae040\">\n",
              "    <div class=\"colab-df-container\">\n",
              "      <div>\n",
              "<style scoped>\n",
              "    .dataframe tbody tr th:only-of-type {\n",
              "        vertical-align: middle;\n",
              "    }\n",
              "\n",
              "    .dataframe tbody tr th {\n",
              "        vertical-align: top;\n",
              "    }\n",
              "\n",
              "    .dataframe thead th {\n",
              "        text-align: right;\n",
              "    }\n",
              "</style>\n",
              "<table border=\"1\" class=\"dataframe\">\n",
              "  <thead>\n",
              "    <tr style=\"text-align: right;\">\n",
              "      <th></th>\n",
              "      <th>gasoline</th>\n",
              "      <th>kerosene</th>\n",
              "      <th>lpg</th>\n",
              "      <th>thinner</th>\n",
              "      <th>SIZE</th>\n",
              "      <th>DISTANCE</th>\n",
              "      <th>DESIBEL</th>\n",
              "      <th>AIRFLOW</th>\n",
              "      <th>FREQUENCY</th>\n",
              "      <th>STATUS</th>\n",
              "    </tr>\n",
              "  </thead>\n",
              "  <tbody>\n",
              "    <tr>\n",
              "      <th>1</th>\n",
              "      <td>1</td>\n",
              "      <td>0</td>\n",
              "      <td>0</td>\n",
              "      <td>0</td>\n",
              "      <td>1</td>\n",
              "      <td>10</td>\n",
              "      <td>96</td>\n",
              "      <td>0.0</td>\n",
              "      <td>72</td>\n",
              "      <td>1</td>\n",
              "    </tr>\n",
              "    <tr>\n",
              "      <th>2</th>\n",
              "      <td>1</td>\n",
              "      <td>0</td>\n",
              "      <td>0</td>\n",
              "      <td>0</td>\n",
              "      <td>1</td>\n",
              "      <td>10</td>\n",
              "      <td>96</td>\n",
              "      <td>2.6</td>\n",
              "      <td>70</td>\n",
              "      <td>1</td>\n",
              "    </tr>\n",
              "    <tr>\n",
              "      <th>3</th>\n",
              "      <td>1</td>\n",
              "      <td>0</td>\n",
              "      <td>0</td>\n",
              "      <td>0</td>\n",
              "      <td>1</td>\n",
              "      <td>10</td>\n",
              "      <td>96</td>\n",
              "      <td>3.2</td>\n",
              "      <td>68</td>\n",
              "      <td>1</td>\n",
              "    </tr>\n",
              "    <tr>\n",
              "      <th>4</th>\n",
              "      <td>1</td>\n",
              "      <td>0</td>\n",
              "      <td>0</td>\n",
              "      <td>0</td>\n",
              "      <td>1</td>\n",
              "      <td>10</td>\n",
              "      <td>109</td>\n",
              "      <td>4.5</td>\n",
              "      <td>67</td>\n",
              "      <td>1</td>\n",
              "    </tr>\n",
              "    <tr>\n",
              "      <th>5</th>\n",
              "      <td>1</td>\n",
              "      <td>0</td>\n",
              "      <td>0</td>\n",
              "      <td>0</td>\n",
              "      <td>1</td>\n",
              "      <td>10</td>\n",
              "      <td>109</td>\n",
              "      <td>7.8</td>\n",
              "      <td>66</td>\n",
              "      <td>1</td>\n",
              "    </tr>\n",
              "    <tr>\n",
              "      <th>...</th>\n",
              "      <td>...</td>\n",
              "      <td>...</td>\n",
              "      <td>...</td>\n",
              "      <td>...</td>\n",
              "      <td>...</td>\n",
              "      <td>...</td>\n",
              "      <td>...</td>\n",
              "      <td>...</td>\n",
              "      <td>...</td>\n",
              "      <td>...</td>\n",
              "    </tr>\n",
              "    <tr>\n",
              "      <th>17434</th>\n",
              "      <td>0</td>\n",
              "      <td>0</td>\n",
              "      <td>1</td>\n",
              "      <td>0</td>\n",
              "      <td>7</td>\n",
              "      <td>190</td>\n",
              "      <td>91</td>\n",
              "      <td>1.9</td>\n",
              "      <td>8</td>\n",
              "      <td>0</td>\n",
              "    </tr>\n",
              "    <tr>\n",
              "      <th>17435</th>\n",
              "      <td>0</td>\n",
              "      <td>0</td>\n",
              "      <td>1</td>\n",
              "      <td>0</td>\n",
              "      <td>7</td>\n",
              "      <td>190</td>\n",
              "      <td>91</td>\n",
              "      <td>1.6</td>\n",
              "      <td>7</td>\n",
              "      <td>0</td>\n",
              "    </tr>\n",
              "    <tr>\n",
              "      <th>17436</th>\n",
              "      <td>0</td>\n",
              "      <td>0</td>\n",
              "      <td>1</td>\n",
              "      <td>0</td>\n",
              "      <td>7</td>\n",
              "      <td>190</td>\n",
              "      <td>87</td>\n",
              "      <td>2.5</td>\n",
              "      <td>6</td>\n",
              "      <td>0</td>\n",
              "    </tr>\n",
              "    <tr>\n",
              "      <th>17437</th>\n",
              "      <td>0</td>\n",
              "      <td>0</td>\n",
              "      <td>1</td>\n",
              "      <td>0</td>\n",
              "      <td>7</td>\n",
              "      <td>190</td>\n",
              "      <td>86</td>\n",
              "      <td>2.2</td>\n",
              "      <td>5</td>\n",
              "      <td>0</td>\n",
              "    </tr>\n",
              "    <tr>\n",
              "      <th>17438</th>\n",
              "      <td>0</td>\n",
              "      <td>0</td>\n",
              "      <td>1</td>\n",
              "      <td>0</td>\n",
              "      <td>7</td>\n",
              "      <td>190</td>\n",
              "      <td>84</td>\n",
              "      <td>2.0</td>\n",
              "      <td>4</td>\n",
              "      <td>0</td>\n",
              "    </tr>\n",
              "  </tbody>\n",
              "</table>\n",
              "<p>16490 rows × 10 columns</p>\n",
              "</div>\n",
              "      <button class=\"colab-df-convert\" onclick=\"convertToInteractive('df-3f50d455-2aee-4f18-9201-6817d33ae040')\"\n",
              "              title=\"Convert this dataframe to an interactive table.\"\n",
              "              style=\"display:none;\">\n",
              "        \n",
              "  <svg xmlns=\"http://www.w3.org/2000/svg\" height=\"24px\"viewBox=\"0 0 24 24\"\n",
              "       width=\"24px\">\n",
              "    <path d=\"M0 0h24v24H0V0z\" fill=\"none\"/>\n",
              "    <path d=\"M18.56 5.44l.94 2.06.94-2.06 2.06-.94-2.06-.94-.94-2.06-.94 2.06-2.06.94zm-11 1L8.5 8.5l.94-2.06 2.06-.94-2.06-.94L8.5 2.5l-.94 2.06-2.06.94zm10 10l.94 2.06.94-2.06 2.06-.94-2.06-.94-.94-2.06-.94 2.06-2.06.94z\"/><path d=\"M17.41 7.96l-1.37-1.37c-.4-.4-.92-.59-1.43-.59-.52 0-1.04.2-1.43.59L10.3 9.45l-7.72 7.72c-.78.78-.78 2.05 0 2.83L4 21.41c.39.39.9.59 1.41.59.51 0 1.02-.2 1.41-.59l7.78-7.78 2.81-2.81c.8-.78.8-2.07 0-2.86zM5.41 20L4 18.59l7.72-7.72 1.47 1.35L5.41 20z\"/>\n",
              "  </svg>\n",
              "      </button>\n",
              "      \n",
              "  <style>\n",
              "    .colab-df-container {\n",
              "      display:flex;\n",
              "      flex-wrap:wrap;\n",
              "      gap: 12px;\n",
              "    }\n",
              "\n",
              "    .colab-df-convert {\n",
              "      background-color: #E8F0FE;\n",
              "      border: none;\n",
              "      border-radius: 50%;\n",
              "      cursor: pointer;\n",
              "      display: none;\n",
              "      fill: #1967D2;\n",
              "      height: 32px;\n",
              "      padding: 0 0 0 0;\n",
              "      width: 32px;\n",
              "    }\n",
              "\n",
              "    .colab-df-convert:hover {\n",
              "      background-color: #E2EBFA;\n",
              "      box-shadow: 0px 1px 2px rgba(60, 64, 67, 0.3), 0px 1px 3px 1px rgba(60, 64, 67, 0.15);\n",
              "      fill: #174EA6;\n",
              "    }\n",
              "\n",
              "    [theme=dark] .colab-df-convert {\n",
              "      background-color: #3B4455;\n",
              "      fill: #D2E3FC;\n",
              "    }\n",
              "\n",
              "    [theme=dark] .colab-df-convert:hover {\n",
              "      background-color: #434B5C;\n",
              "      box-shadow: 0px 1px 3px 1px rgba(0, 0, 0, 0.15);\n",
              "      filter: drop-shadow(0px 1px 2px rgba(0, 0, 0, 0.3));\n",
              "      fill: #FFFFFF;\n",
              "    }\n",
              "  </style>\n",
              "\n",
              "      <script>\n",
              "        const buttonEl =\n",
              "          document.querySelector('#df-3f50d455-2aee-4f18-9201-6817d33ae040 button.colab-df-convert');\n",
              "        buttonEl.style.display =\n",
              "          google.colab.kernel.accessAllowed ? 'block' : 'none';\n",
              "\n",
              "        async function convertToInteractive(key) {\n",
              "          const element = document.querySelector('#df-3f50d455-2aee-4f18-9201-6817d33ae040');\n",
              "          const dataTable =\n",
              "            await google.colab.kernel.invokeFunction('convertToInteractive',\n",
              "                                                     [key], {});\n",
              "          if (!dataTable) return;\n",
              "\n",
              "          const docLinkHtml = 'Like what you see? Visit the ' +\n",
              "            '<a target=\"_blank\" href=https://colab.research.google.com/notebooks/data_table.ipynb>data table notebook</a>'\n",
              "            + ' to learn more about interactive tables.';\n",
              "          element.innerHTML = '';\n",
              "          dataTable['output_type'] = 'display_data';\n",
              "          await google.colab.output.renderOutput(dataTable, element);\n",
              "          const docLink = document.createElement('div');\n",
              "          docLink.innerHTML = docLinkHtml;\n",
              "          element.appendChild(docLink);\n",
              "        }\n",
              "      </script>\n",
              "    </div>\n",
              "  </div>\n",
              "  "
            ]
          },
          "metadata": {},
          "execution_count": 17
        }
      ],
      "source": [
        "dummy_vars = pd.get_dummies(df['FUEL'])\n",
        "df_dummies = pd.concat([dummy_vars, df.drop('FUEL', axis=1)], axis = 1, sort=False)\n",
        "df_dummies"
      ]
    }
  ],
  "metadata": {
    "colab": {
      "name": "ML_Projeto.ipynb",
      "provenance": []
    },
    "interpreter": {
      "hash": "369f2c481f4da34e4445cda3fffd2e751bd1c4d706f27375911949ba6bb62e1c"
    },
    "kernelspec": {
      "display_name": "Python 3.10.2 64-bit",
      "language": "python",
      "name": "python3"
    },
    "language_info": {
      "codemirror_mode": {
        "name": "ipython",
        "version": 3
      },
      "file_extension": ".py",
      "mimetype": "text/x-python",
      "name": "python",
      "nbconvert_exporter": "python",
      "pygments_lexer": "ipython3",
      "version": "3.10.2"
    }
  },
  "nbformat": 4,
  "nbformat_minor": 0
}